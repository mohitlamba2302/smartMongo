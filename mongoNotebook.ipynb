{
 "cells": [
  {
   "cell_type": "code",
   "execution_count": 34,
   "id": "35e511fe",
   "metadata": {},
   "outputs": [],
   "source": [
    "import pymongo\n",
    "# Smart Mongo Projections"
   ]
  },
  {
   "cell_type": "code",
   "execution_count": 35,
   "id": "ad690039",
   "metadata": {},
   "outputs": [],
   "source": [
    "# creation of mongo DB cluster\n",
    "\n",
    "myclient = pymongo.MongoClient(\"mongodb://localhost:27017/\")\n",
    "mydb = myclient[\"mydatabase\"]\n",
    "mycollection = mydb[\"data_1\"]\n"
   ]
  },
  {
   "cell_type": "code",
   "execution_count": 36,
   "id": "232656c2",
   "metadata": {},
   "outputs": [
    {
     "data": {
      "text/plain": [
       "<pymongo.results.InsertOneResult at 0x7fd3ab49fd40>"
      ]
     },
     "execution_count": 36,
     "metadata": {},
     "output_type": "execute_result"
    }
   ],
   "source": [
    "# Addition Of data to Mongo DB cluster\n",
    "\n",
    "import json\n",
    "data_dict = {}\n",
    "with open('sample.json', \"r+\") as f:\n",
    "    data_dict = json.loads(f.read())\n",
    "mycollection.insert_one(data_dict)"
   ]
  },
  {
   "cell_type": "code",
   "execution_count": 37,
   "id": "50b60169",
   "metadata": {},
   "outputs": [
    {
     "name": "stdout",
     "output_type": "stream",
     "text": [
      "{'_birthDate': {'extension': [{'url': 'http://hl7.org/fhir/StructureDefinition/patient-birthTime',\n",
      "                               'valueDateTime': '1974-12-25T14:35:45-05:00'}]},\n",
      " '_id': ObjectId('60bcd2c595b81d888d9d4d7a'),\n",
      " 'active': True,\n",
      " 'address': [{'city': 'PleasantVille',\n",
      "              'district': 'Rainbow',\n",
      "              'line': ['534 Erewhon St'],\n",
      "              'period': {'start': '1974-12-25'},\n",
      "              'postalCode': '3999',\n",
      "              'state': 'Vic',\n",
      "              'text': '534 Erewhon St PeasantVille, Rainbow, Vic  3999',\n",
      "              'type': 'both',\n",
      "              'use': 'home'}],\n",
      " 'birthDate': '1974-12-25',\n",
      " 'contact': [{'address': {'city': 'PleasantVille',\n",
      "                          'district': 'Rainbow',\n",
      "                          'line': ['534 Erewhon St'],\n",
      "                          'period': {'start': '1974-12-25'},\n",
      "                          'postalCode': '3999',\n",
      "                          'state': 'Vic',\n",
      "                          'type': 'both',\n",
      "                          'use': 'home'},\n",
      "              'gender': 'female',\n",
      "              'name': {'_family': {'extension': [{'url': 'http://hl7.org/fhir/StructureDefinition/humanname-own-prefix',\n",
      "                                                  'valueString': 'VV'}]},\n",
      "                       'family': 'du Marché',\n",
      "                       'given': ['Bénédicte']},\n",
      "              'period': {'start': '2012'},\n",
      "              'relationship': [{'coding': [{'code': 'N',\n",
      "                                            'system': 'http://terminology.hl7.org/CodeSystem/v2-0131'}]}],\n",
      "              'telecom': [{'system': 'phone', 'value': '+33 (237) 998327'}]}],\n",
      " 'deceasedBoolean': False,\n",
      " 'gender': 'male',\n",
      " 'id': 'example',\n",
      " 'identifier': [{'assigner': {'display': 'Acme Healthcare'},\n",
      "                 'period': {'start': '2001-05-06'},\n",
      "                 'system': 'urn:oid:1.2.36.146.595.217.0.1',\n",
      "                 'type': {'coding_1': {'code': 'MR',\n",
      "                                       'system': 'http://terminology.hl7.org/CodeSystem/v1'},\n",
      "                          'coding_2': {'code': 'GMR',\n",
      "                                       'system': 'http://terminology.hl7.org/CodeSystem/v2'},\n",
      "                          'coding_3': {'code': 'MDMR',\n",
      "                                       'system': 'http://terminology.hl7.org/CodeSystem/v3'}},\n",
      "                 'use': 'usual',\n",
      "                 'value': '12345'}],\n",
      " 'managingOrganization': {'reference': 'Organization/1'},\n",
      " 'name': [{'family': 'Chalmers',\n",
      "           'given': ['Peter', 'James'],\n",
      "           'use': 'official'},\n",
      "          {'given': ['Jim'], 'use': 'usual'},\n",
      "          {'family': 'Windsor',\n",
      "           'given': ['Peter', 'James'],\n",
      "           'period': {'end': '2002'},\n",
      "           'use': 'maiden'}],\n",
      " 'resourceType': 'Patient',\n",
      " 'telecom': [{'use': 'home'},\n",
      "             {'rank': 1,\n",
      "              'system': 'phone',\n",
      "              'use': 'work',\n",
      "              'value': '(03) 5555 6473'},\n",
      "             {'rank': 2,\n",
      "              'system': 'phone',\n",
      "              'use': 'mobile',\n",
      "              'value': '(03) 3410 5613'},\n",
      "             {'period': {'end': '2014'},\n",
      "              'system': 'phone',\n",
      "              'use': 'old',\n",
      "              'value': '(03) 5555 8834'}],\n",
      " 'text': {'div': '<div xmlns=\"http://www.w3.org/1999/xhtml\">\\n'\n",
      "                 '\\t\\t\\t<table>\\n'\n",
      "                 '\\t\\t\\t\\t<tbody>\\n'\n",
      "                 '\\t\\t\\t\\t\\t<tr>\\n'\n",
      "                 '\\t\\t\\t\\t\\t\\t<td>Name</td>\\n'\n",
      "                 '\\t\\t\\t\\t\\t\\t<td>Peter James \\n'\n",
      "                 '              <b>Chalmers</b> (&quot;Jim&quot;)\\n'\n",
      "                 '            </td>\\n'\n",
      "                 '\\t\\t\\t\\t\\t</tr>\\n'\n",
      "                 '\\t\\t\\t\\t\\t<tr>\\n'\n",
      "                 '\\t\\t\\t\\t\\t\\t<td>Address</td>\\n'\n",
      "                 '\\t\\t\\t\\t\\t\\t<td>534 Erewhon, Pleasantville, Vic, 3999</td>\\n'\n",
      "                 '\\t\\t\\t\\t\\t</tr>\\n'\n",
      "                 '\\t\\t\\t\\t\\t<tr>\\n'\n",
      "                 '\\t\\t\\t\\t\\t\\t<td>Contacts</td>\\n'\n",
      "                 '\\t\\t\\t\\t\\t\\t<td>Home: unknown. Work: (03) 5555 6473</td>\\n'\n",
      "                 '\\t\\t\\t\\t\\t</tr>\\n'\n",
      "                 '\\t\\t\\t\\t\\t<tr>\\n'\n",
      "                 '\\t\\t\\t\\t\\t\\t<td>Id</td>\\n'\n",
      "                 '\\t\\t\\t\\t\\t\\t<td>MRN: 12345 (Acme Healthcare)</td>\\n'\n",
      "                 '\\t\\t\\t\\t\\t</tr>\\n'\n",
      "                 '\\t\\t\\t\\t</tbody>\\n'\n",
      "                 '\\t\\t\\t</table>\\n'\n",
      "                 '\\t\\t</div>',\n",
      "          'status': 'generated'}}\n"
     ]
    }
   ],
   "source": [
    "import pprint\n",
    "retrieved_obj = mycollection.find_one()\n",
    "# print(retrieved_obj.keys())\n",
    "pprint.pprint(retrieved_obj)"
   ]
  },
  {
   "cell_type": "code",
   "execution_count": 38,
   "id": "a3e67e3f",
   "metadata": {},
   "outputs": [],
   "source": [
    "# Query to select sub keys from a list, by ignoring Other Keys.\n",
    "# This is primarily for the reason of space optimisation and payload reduction which quering a NoSQL db, and it is\n",
    "# in a complex Json Format"
   ]
  },
  {
   "cell_type": "code",
   "execution_count": 39,
   "id": "c6540dba",
   "metadata": {},
   "outputs": [],
   "source": [
    "# sample query to pic the telecom.value key from list inside telecom.\n",
    "projection = {\"telecom.[].value\":1}"
   ]
  },
  {
   "cell_type": "code",
   "execution_count": 40,
   "id": "553fb2be",
   "metadata": {},
   "outputs": [],
   "source": [
    "projection_2 = {\"identifier.[].type.{}.code\":1}"
   ]
  },
  {
   "cell_type": "code",
   "execution_count": null,
   "id": "700a8889",
   "metadata": {},
   "outputs": [],
   "source": []
  }
 ],
 "metadata": {
  "kernelspec": {
   "display_name": "Python 3",
   "language": "python",
   "name": "python3"
  },
  "language_info": {
   "codemirror_mode": {
    "name": "ipython",
    "version": 3
   },
   "file_extension": ".py",
   "mimetype": "text/x-python",
   "name": "python",
   "nbconvert_exporter": "python",
   "pygments_lexer": "ipython3",
   "version": "3.9.2"
  }
 },
 "nbformat": 4,
 "nbformat_minor": 5
}
